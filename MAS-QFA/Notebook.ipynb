{
 "cells": [
  {
   "cell_type": "markdown",
   "id": "c3000960",
   "metadata": {},
   "source": [
    "# Q Learning MLP"
   ]
  },
  {
   "cell_type": "code",
   "execution_count": 1,
   "id": "88c9fe1d",
   "metadata": {
    "ExecuteTime": {
     "end_time": "2022-04-13T12:06:18.078817Z",
     "start_time": "2022-04-13T12:06:17.056666Z"
    }
   },
   "outputs": [],
   "source": [
    "import gym\n",
    "import torch\n",
    "import itertools\n",
    "\n",
    "import numpy as np\n",
    "import torch.nn as nn\n",
    "import matplotlib.pyplot as plt\n",
    "\n",
    "from agents import QLearningAgent\n",
    "\n",
    "from torch.utils.tensorboard import SummaryWriter\n",
    "from tqdm.notebook import tqdm\n",
    "from time import sleep"
   ]
  },
  {
   "cell_type": "code",
   "execution_count": 2,
   "id": "95fcf109",
   "metadata": {
    "ExecuteTime": {
     "end_time": "2022-04-13T12:06:18.435194Z",
     "start_time": "2022-04-13T12:06:18.417242Z"
    }
   },
   "outputs": [],
   "source": [
    "%load_ext tensorboard"
   ]
  },
  {
   "cell_type": "code",
   "execution_count": 3,
   "id": "a58c43a3",
   "metadata": {
    "ExecuteTime": {
     "end_time": "2022-04-13T12:06:19.357361Z",
     "start_time": "2022-04-13T12:06:19.352968Z"
    }
   },
   "outputs": [],
   "source": [
    "class MLP(nn.Module):\n",
    "    def __init__(self, input_size, hidden_size, output_size, activation_fn):\n",
    "        super(MLP, self).__init__()\n",
    "        self.fc1 = nn.Linear(input_size, hidden_size)\n",
    "        self.act = activation_fn()\n",
    "        self.fc2 = nn.Linear(hidden_size, output_size)\n",
    "\n",
    "    def forward(self, x):\n",
    "        x = self.act(self.fc1(x)) / 10\n",
    "        x = self.fc2(x)\n",
    "        return x"
   ]
  },
  {
   "cell_type": "markdown",
   "id": "feb33a7b",
   "metadata": {},
   "source": [
    "## Cart Pole\n",
    "\n",
    "- Objective: keep a pendulum upright for as long as possible\n",
    "- 2 actions: left (force = -1), right (force = +1)\n",
    "- Reward: +1 for every timestep that the pole remains upright\n",
    "- Game ends when pole more the 15° from vertical OR cart moves > 2.4 units from center"
   ]
  },
  {
   "cell_type": "code",
   "execution_count": 4,
   "id": "e7758a50",
   "metadata": {
    "ExecuteTime": {
     "end_time": "2022-04-13T12:06:21.105822Z",
     "start_time": "2022-04-13T12:06:21.101950Z"
    }
   },
   "outputs": [],
   "source": [
    "def init_weights(mlp: MLP):\n",
    "    gamma = torch.tensor([5.0, 2.0, 1.0, 0.5])\n",
    "    nn.init.normal_(mlp.fc1.weight, mean=0, std=1)\n",
    "    mlp.fc1.weight.data = mlp.fc1.weight.data * gamma\n",
    "    nn.init.uniform_(mlp.fc1.bias, a=0, b=np.pi * 2)"
   ]
  },
  {
   "cell_type": "code",
   "execution_count": 5,
   "id": "ac5f549b",
   "metadata": {
    "ExecuteTime": {
     "end_time": "2022-04-13T12:06:24.575548Z",
     "start_time": "2022-04-13T12:06:24.569350Z"
    }
   },
   "outputs": [],
   "source": [
    "LEARNING_RATES = [1e-4, 0.1]\n",
    "DISCOUNT_FACTORS = [0.99]\n",
    "EXPLORATION_RATES = [0.0, 0.5]\n",
    "ACTIVATION_FNS = [nn.Sigmoid, nn.Tanh]\n",
    "EPISLON_DECAY = 0.99\n",
    "NUM_EPISODES = 1_000\n",
    "MAX_STEPS = 2_000\n",
    "FPS = 30"
   ]
  },
  {
   "cell_type": "code",
   "execution_count": 6,
   "id": "5ae6b955",
   "metadata": {
    "ExecuteTime": {
     "end_time": "2022-04-13T12:09:35.943600Z",
     "start_time": "2022-04-13T12:06:24.945501Z"
    },
    "scrolled": false
   },
   "outputs": [
    {
     "data": {
      "application/vnd.jupyter.widget-view+json": {
       "model_id": "49ea2903c1674967804338c14cde40f0",
       "version_major": 2,
       "version_minor": 0
      },
      "text/plain": [
       "  0%|          | 0/8 [00:00<?, ?it/s]"
      ]
     },
     "metadata": {},
     "output_type": "display_data"
    }
   ],
   "source": [
    "env = gym.make(\"CartPole-v1\")\n",
    "writer = SummaryWriter()\n",
    "\n",
    "pbar = tqdm(list(itertools.product(LEARNING_RATES, DISCOUNT_FACTORS, EXPLORATION_RATES, ACTIVATION_FNS)))\n",
    "for (lr, df, er, af) in pbar:\n",
    "    model = MLP(env.observation_space.shape[0], 400, env.action_space.n, activation_fn=af)\n",
    "    init_weights(model)\n",
    "    \n",
    "    agent = QLearningAgent(env, model, learning_rate=lr, gamma=df, epsilon=er, \n",
    "                           epsilon_decay=EPISLON_DECAY, episodes=NUM_EPISODES, max_steps=MAX_STEPS)\n",
    "    \n",
    "    rewards = agent.train()\n",
    "        \n",
    "    for i, reward in enumerate(rewards):\n",
    "        writer.add_scalar(f\"Reward/alpha={lr}_gamma={df}_epsilon={er}_activation={af.__name__}\", reward, i)\n",
    "\n",
    "\n",
    "writer.close()"
   ]
  },
  {
   "cell_type": "code",
   "execution_count": 7,
   "id": "9acf33be",
   "metadata": {
    "ExecuteTime": {
     "end_time": "2022-04-13T12:09:37.476887Z",
     "start_time": "2022-04-13T12:09:35.945011Z"
    }
   },
   "outputs": [
    {
     "data": {
      "text/html": [
       "\n",
       "      <iframe id=\"tensorboard-frame-aa8a6a971d43ca6\" width=\"100%\" height=\"800\" frameborder=\"0\">\n",
       "      </iframe>\n",
       "      <script>\n",
       "        (function() {\n",
       "          const frame = document.getElementById(\"tensorboard-frame-aa8a6a971d43ca6\");\n",
       "          const url = new URL(\"/\", window.location);\n",
       "          const port = 6006;\n",
       "          if (port) {\n",
       "            url.port = port;\n",
       "          }\n",
       "          frame.src = url;\n",
       "        })();\n",
       "      </script>\n",
       "    "
      ],
      "text/plain": [
       "<IPython.core.display.HTML object>"
      ]
     },
     "metadata": {},
     "output_type": "display_data"
    }
   ],
   "source": [
    "%tensorboard --logdir=runs"
   ]
  },
  {
   "cell_type": "code",
   "execution_count": 8,
   "id": "ed6deca4",
   "metadata": {
    "ExecuteTime": {
     "end_time": "2022-04-13T12:11:35.257823Z",
     "start_time": "2022-04-13T12:09:37.478759Z"
    }
   },
   "outputs": [
    {
     "data": {
      "image/png": "[encoded data removed]",
      "text/plain": [
       "<Figure size 432x288 with 1 Axes>"
      ]
     },
     "metadata": {
      "needs_background": "light"
     },
     "output_type": "display_data"
    }
   ],
   "source": [
    "env = gym.make(\"CartPole-v1\")\n",
    "\n",
    "model = MLP(env.observation_space.shape[0], 400, env.action_space.n, activation_fn=nn.Sigmoid)\n",
    "init_weights(model)\n",
    "\n",
    "agent = QLearningAgent(env, model, learning_rate=0.1, gamma=0.99, epsilon=0.5, \n",
    "                       epsilon_decay=EPISLON_DECAY, episodes=NUM_EPISODES, max_steps=MAX_STEPS)\n",
    "\n",
    "rewards = agent.train()\n",
    "\n",
    "smoothed_rewards = []\n",
    "smooth_window = 50\n",
    "for i in range(smooth_window, len(rewards) - smooth_window):\n",
    "    smoothed_rewards.append(np.mean(rewards[i-smooth_window:i+smooth_window]))\n",
    "\n",
    "plt.plot(smoothed_rewards)\n",
    "plt.xlabel(f\"Episode\")\n",
    "plt.ylabel(\"Reward\")\n",
    "plt.show()"
   ]
  },
  {
   "cell_type": "code",
   "execution_count": 14,
   "id": "70f9bf3a",
   "metadata": {
    "ExecuteTime": {
     "end_time": "2022-04-13T15:50:27.604732Z",
     "start_time": "2022-04-13T15:50:21.251695Z"
    }
   },
   "outputs": [
    {
     "name": "stdout",
     "output_type": "stream",
     "text": [
      "165.0\n"
     ]
    }
   ],
   "source": [
    "total_reward = 0\n",
    "\n",
    "env = gym.make(\"CartPole-v1\")\n",
    "\n",
    "state = env.reset()\n",
    "for step in range(MAX_STEPS):\n",
    "    action = agent.act(state, train=False)\n",
    "    next_state, reward, done, _ = env.step(action)\n",
    "    total_reward += reward\n",
    "    env.render()\n",
    "    sleep(1 / FPS)\n",
    "    state = next_state\n",
    "    if done:\n",
    "        break\n",
    "\n",
    "env.close()\n",
    "\n",
    "print(total_reward)"
   ]
  },
  {
   "cell_type": "code",
   "execution_count": null,
   "id": "fbefb922",
   "metadata": {},
   "outputs": [],
   "source": []
  }
 ],
 "metadata": {
  "kernelspec": {
   "display_name": "Python 3 (ipykernel)",
   "language": "python",
   "name": "python3"
  },
  "language_info": {
   "codemirror_mode": {
    "name": "ipython",
    "version": 3
   },
   "file_extension": ".py",
   "mimetype": "text/x-python",
   "name": "python",
   "nbconvert_exporter": "python",
   "pygments_lexer": "ipython3",
   "version": "3.9.5"
  }
 },
 "nbformat": 4,
 "nbformat_minor": 5
}
